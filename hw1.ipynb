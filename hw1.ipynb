{
 "cells": [
  {
   "cell_type": "markdown",
   "metadata": {},
   "source": [
    "# STA 208: Homework 1 (Do not distribute)\n",
    "\n",
    "## Due 4/10/19 midnight \n",
    "\n",
    "__Instructions:__ To make grading easier for the TAs please submit it on canvas in a zip file with either the scanned solutions clearly written or in the jupyter notebook below.  The zip file should include all of your code either in this notebook file, or a separate python file that is imported and ran in this notebook.  We should be able to open this notebook and run everything here by running the cells in sequence.  The written portions can be either done in markdown and TeX in new cells or written clearly by hand and scanned.\n",
    "\n",
    "- Code should be well organized and documented\n",
    "- All math should be clear and make sense sequentially\n",
    "- When in doubt explain what is going on\n",
    "- You will be graded on correctness of your math, code efficiency and succinctness, and conclusions and modelling decisions"
   ]
  },
  {
   "cell_type": "markdown",
   "metadata": {},
   "source": [
    "__Exercise 1__ (20 pts)\n",
    "\n",
    "Consider the binary classification setting where the training data is $x_i \\in \\mathbb R^p, y_i \\in \\{0,1\\}, i=1,\\ldots,n$ and recall the empirical risk (as a function of the predictor $g : \\mathbb R^p \\to \\{0,1\\}$),\n",
    "$$\n",
    "R_n(g) = \\frac 1n \\sum_{i=1}^n \\ell(y_i, g(x_i)),\n",
    "$$\n",
    "and the true risk is \n",
    "$$\n",
    "R(g) = \\mathbb E \\ell(Y,g(X))\n",
    "$$\n",
    "where $X,Y$ are drawn from their joint distribution $f_{X,Y}(x,y)$.\n",
    "\n",
    "1. Suppose that the loss function is the Hamming loss, $\\ell(y,\\hat y) = 1\\{ y \\ne \\hat y\\}$.  What is the predictor that minimizes the True risk?  (Hint: derive an expression for this based on the joint distribution - you can use expressions involving conditional probabilities.)  This predictor is called the Bayes rule.\n",
    "2. Suppose that we know that the Bayes rule can be written in the form, \n",
    "$$\n",
    "h_j(x) = 1\\{ x_j > 0 \\}, \n",
    "$$\n",
    "for some $j = 1,\\ldots,p$, but we don't know which one.  Now using the empirical risk, what is a reasonable classification algorithm (Hint: you can think of finding a good classifier as a problem of finding $j$).  Describe the fit and predict methods. \n",
    "3. (Challenging) Suppose that I told you that for any fixed $j$ the following probability bound holds (from Hoeffding's inequality)\n",
    "$$\n",
    "\\mathbb P \\left\\{ |R_n(h_j) - R(h_j)| > t \\right\\} \\le 2 \\exp \\left( - 2 n t^2 \\right).\n",
    "$$\n",
    "If $p=10$, how many samples would I need to get a classifier $\\hat g$, from the previous question (part 2), such that \n",
    "$$\n",
    "\\mathbb P \\left\\{ R(\\hat g) < R(h) + 0.1 \\right\\} \\ge 0.95.\n",
    "$$\n",
    "where $h$ is the Bayes rule, namely, the $h_j$ that minimizes $R$.\n",
    "(Hint: use the union bound to show that $R_n(\\hat g) \\approx R(\\hat g)$ and use the fact that $R_n(\\hat g) \\le R_n(h_j)$ for any $j$ because it is in the minimizer.)"
   ]
  },
  {
   "cell_type": "markdown",
   "metadata": {},
   "source": [
    "1.1\n",
    "\n",
    "denote $\\eta(x) = P(y=1|x) = \\int_{y=1} f(x,y)dy$\n",
    "\n",
    "\\begin{align}\n",
    "R(1|x) &= P(y=0|x)\\cdot 1+ P(y=1|x)\\cdot 0 \\\\\n",
    "     &= P(y=0|x)\n",
    "\\end{align}\n",
    "\n",
    "\\begin{align}\n",
    "R(0|x) &= P(y=1|x)\\cdot 1+ P(y=0|x)\\cdot 0 \\\\\n",
    "     &= P(y=1|x)\n",
    "\\end{align}\n",
    "\n",
    "Bayes rule: \n",
    "\n",
    "if $R(1|x) \\leq R(0|x)$, $g(x)=1$; otherwise $g(x)=0$\n",
    "\n",
    "or \n",
    "\n",
    "if $P(y=0|x) \\leq P(y=1|x)$, $g(x)=1$; otherwise $g(x)=0$\n",
    "\n",
    "or\n",
    "\n",
    "if $1-\\eta(x) \\leq \\eta(x)$, i.e. $\\eta(x) \\geq \\frac{1}{2}$, $g(x)=1$; otherwise $g(x)=0$\n",
    "\n",
    "\n",
    "**proof**: $g^*(x) = \\mathbf 1\\{\\eta(x)\\geq \\frac{1}{2}\\}$ is the predictor that minimizes the True risk.\n",
    "\n",
    "\\begin{align}\n",
    "R(g) &= \\mathbb E \\ell(Y,g(X)) \\\\\n",
    "    &= P(Y \\neq g(X) \\\\\n",
    "    &= P(Y=0, g(X)=1) + P(Y=1, g(X) = 0) \\\\\n",
    "    &= \\mathbb E[\\mathbb E[\\mathbf 1(Y=0,g(X)=1|X=x) + \\mathbf 1(Y=1,g(X)=0|X=x)]] \\\\\n",
    "    &= \\mathbb E[\\mathbb E[\\mathbf 1(g(X) = 1)(1-\\eta(X)) + \\mathbf 1(g(X)=0)\\eta(X)]]\n",
    "\\end{align}\n",
    "\n",
    "\n",
    "Since $R(g) - R(g^*) = \\mathbb E[(1-2\\eta(X))((\\mathbf 1(g(X)=1) - \\mathbf 1(g^*(X)=1))]$,\n",
    "\n",
    "when $g^*(x)=1\\{\\eta(x)\\geq \\frac{1}{2}\\}$, $R(g)-R(g^*)\\geq 0$ will always be true.\n",
    "    \n"
   ]
  },
  {
   "cell_type": "markdown",
   "metadata": {},
   "source": [
    "1.2\n",
    "\n",
    "$R_n(g) = \\frac 1n \\sum_{i=1}^n \\ell(y_i, g(x_i)) = \\frac 1n \\sum_{i=1}^n 1\\{y_i \\neq h_j(x_i)\\} $\n",
    "- fit: \n",
    "\n",
    "```\n",
    "Rn = inf\n",
    "ind = 0\n",
    "\n",
    "for j in 1:p:\n",
    "    temp = 0\n",
    "    for i in 1:n:\n",
    "        if x_ij > 0 && y_i == 0:\n",
    "            temp += 1\n",
    "        if x_ij < 0 && y_i == 1:\n",
    "            temp += 1\n",
    "     if temp < Rn:\n",
    "         Rn = temp    # find the minimum Rn\n",
    "         ind = j     # store the index\n",
    "```\n",
    "\n",
    "- predict: \n",
    "\n",
    "$g(x) = 1\\{ x_{ind} > 0 \\}, $"
   ]
  },
  {
   "cell_type": "markdown",
   "metadata": {},
   "source": [
    "1.3\n",
    "\n",
    "using the union bound: \n",
    "\n",
    "\\begin{align}\n",
    "&\\mathbb P \\left\\{ \\bigcup_{j=1}^p |R_n(h_j) - R(h_j)| > t \\right\\}\\\\\n",
    "    &\\le \\sum_{j=1}^p \\mathbb P \\left\\{ |R_n(h_j) - R(h_j)| > t \\right\\} \\\\\n",
    "    &\\le \\sum_{j=1}^p 2 \\exp \\left( - 2 n t^2 \\right)\\\\\n",
    "    &= 2p \\cdot \\exp \\left( - 2 n t^2 \\right)\n",
    "\\end{align}\n",
    "\n",
    "Since $R_n(\\hat g) \\le R_n(h_j)$, \n",
    "\n",
    "\\begin{align}\n",
    "R(\\hat g) &\\le R_n(h_j) - R_n(\\hat g) + R(\\hat g)\\\\\n",
    "    &= R_n(h_j) - R_n(\\hat g) + R(\\hat g) - R(h_j) + R(h_j)\\\\\n",
    "    &= R_n(h_j) - R(h_j) - R_n(\\hat g) + R(\\hat g)+ R(h_j) \\\\\n",
    "    &\\le |R(h_j) - R_n(h_j)| + |R(\\hat g) - R_n(\\hat g)| + R(h_j)\\\\\n",
    "    &\\le 2\\ sup\\ |R(h_j) - R_n(h_j)| + R(h_j)\n",
    "\\end{align}\n",
    "\n",
    "i.e $\\mathbb P \\left\\{|R(\\hat g) - R(h)| > t \\right\\} \\le 4p \\cdot \\exp \\left( - 2 n t^2 \\right) $\n",
    "\n",
    "if $p = 10, t = 0.1, 4p\\exp \\left( - 2 n t^2 \\right) = 0.05$\n",
    "\n",
    "then $n = \\lceil\\frac{log(0.05/4p)}{(-2)t^2}\\rceil= \\lceil 334.2306 \\rceil = 335$\n"
   ]
  },
  {
   "cell_type": "markdown",
   "metadata": {},
   "source": [
    "__Exercise 2__ (20 pts)\n",
    "\n",
    "Consider the regression setting in which $x_i \\in \\mathbb R^p$ and $y_i \\in \\mathbb R$, for $i=1,\\ldots,n$ and $p < n$.\n",
    "\n",
    "1. For a given regressor, let $\\hat y_i$ be prediction given $x_i$, and $\\hat y$ be the vector form.  Show that both linear regression and k-nearest neighbors can be written in the form\n",
    "$$\n",
    "\\hat y = H y,\n",
    "$$\n",
    "where $H$ is dependent on $X$ (the matrix of where each row is $x_i$), assuming that $p < n$ and $X$ is full rank.  Give an expression for $H$ or an algorithm for computing $H$.  Assume that the KNN algorithm will use the same point as its own nearest neighbor (this is consistent with what you get if you use the same dataset in fit and predict in sklearn.)  You can just write it in words or pseudocode. \n",
    "2. Give a simple modification to your algorithm to compute the KNN's $H$ matrix so that a sample does not use its own point.  Derive an expression for the leave-one-out cross validated squared error based on this $H$. You can just write it in words or pseudocode. \n",
    "3. For linear regression (with $p < n$ and $X$ is full rank), let $X = U D V^\\top$ be the singular value decomposition where $U$ is $n \\times p$, and $V, D$ is $p \\times p$ ($D$ is diagonal). Derive an expression for the OLS coefficients $\\beta = A b$ such that $A$ is $p \\times p$ and depends on $V$ and $D$, and $b$ is a $p$ vector and does not depend on $D$.  Describe a fit method that precomputes these quantities separately, and describe a predict method.\n",
    "\n",
    "\n",
    "4. Consider a regressor that performs OLS using the SVD above, but every instance of D will only use the largest $r$ values, and only the first $r$ columns of $U,V$ would be used.  Let $U_r, V_r$ be the $n \\times r$ and $p \\times r$ eigenvector matrices.  Call the new $r \\times r$ matrix $D_r$ ($r < p$) which just has the top $r$ singular values.  Then the new coefficient vector is the OLS computed as if the design matrix is modified by $X \\gets U_r D_r V_r^\\top$.  Given that you have computed $b$ already, how could you make a method `change_rank` that recomputes $A$ with $D_r$ instead of $D$?  What is its computational complexity (it should not depend on n)?"
   ]
  },
  {
   "cell_type": "markdown",
   "metadata": {},
   "source": [
    "2.1\n",
    "- For linear regression: \n",
    "    $$ \\hat \\beta = argmin\\ (y - X\\beta)^T(y-X\\beta) = (X^\\top X)^{-1} X^T y $$\n",
    "    $$ \\hat y = X \\hat \\beta = X(X^TX)^{-1}X^T y$$\n",
    "    So $ H = X(X^TX)^{-1}X^T$\n",
    "\n",
    "\n",
    "- For k-nearest neighbors: \n",
    "\n",
    "    Since $ \\hat y_i = \\frac{1}{K} \\sum_{k = 1}^K y_{i_k} $, H can be computed as below\n",
    "    \n",
    "    ```python\n",
    "    H = {h_ij}, where h_ij = 0 for i = 1,...n,j=1,...,n\n",
    "    for i in 1:n :\n",
    "        for j in 1:n :\n",
    "            compute distance d(x_i, x_j)\n",
    "        sort distances \n",
    "        get K-nearest neighbors of x_i (i_1, i_2, ..., i_k)\n",
    "        for k in 1:K :\n",
    "            let h_{i, i_k} = 1/K\n",
    "            \n",
    "    ```"
   ]
  },
  {
   "cell_type": "markdown",
   "metadata": {},
   "source": [
    "2.2\n",
    "\n",
    "```python\n",
    "    H = {h_ij}, where h_ij = 0 for i = 1,...n,j=1,...,n\n",
    "    for i in 1:n :\n",
    "        for j in 1:n :\n",
    "            if i != j:\n",
    "               compute distance d(x_i, x_j)\n",
    "        sort distances \n",
    "        get K-nearest neighbors of x_i (i_1, i_2, ..., i_k)\n",
    "        for k in 1:K :\n",
    "            let h_{i, i_k} = 1/K\n",
    "            \n",
    "```\n",
    "$ error = \\frac{1}{n}(y-Hy)^T (y-Hy) $ "
   ]
  },
  {
   "cell_type": "markdown",
   "metadata": {},
   "source": [
    "2.3\n",
    "\n",
    "Since $ X = UDV^T $, where $D$ is diagnal, $ U^TU = I$, $ VV^T = I$ \n",
    "\n",
    "\\begin{align} \n",
    "\\hat \\beta &= (X^\\top X)^{-1} X^T y \\\\\n",
    "        &= (VDU^T UDV^T)^{-1} VDU^T y \\\\\n",
    "        &= (VDDV^T)^{-1} VDU^T y \\\\\n",
    "        &= (VD^2V^T)^{-1} VDU^T y \\\\\n",
    "        &= (D^2VV^T)^{-1} VDU^T y\\ \\ (D^2\\ is\\ p*p\\ diagnal,\\ commutative)\\\\ \n",
    "        &= D^{-2} VDU^T y \\\\\n",
    "        &= VD^{-2}DU^T y \\\\\n",
    "        &= VD^{-1}U^T y\n",
    "\\end{align}\n",
    "\n",
    "Let $A = VD^{-1}$, $b = U^T y$, then $\\hat \\beta = Ab$\n",
    "\n",
    "$U$ and $V^T$ are matrices with eigenvectors chosen from $XX^T$ and $X^TX$, $D$ is a diagnal matrix with p elements equal to the root of the eigenvalues of $XX^T$ or $X^TX$.\n",
    "\n",
    "predict: $ \\hat y = X\\hat\\beta =  XVD^{-1}U^T y$"
   ]
  },
  {
   "cell_type": "markdown",
   "metadata": {},
   "source": [
    "2.4\n",
    "\n",
    "$ A = V_rD_r^{-1} = \\sum_{j = 1}^r V_j D_{r_j}^{-1}$, \n",
    "\n",
    "where $V_j$ is the jth column of $V$, $D_{r_j}^{-1}$ is the jth row of $D_r^{-1}$ \n",
    "\n",
    "The computational complexity is $O(pr^2)$."
   ]
  },
  {
   "cell_type": "markdown",
   "metadata": {},
   "source": [
    "__Exercise 3__ (30 pts)\n",
    "\n",
    "We call the method that zeros out all but $r$ largest singular values in OLS, singular value regression.  Implement the singular value regressor as a sklearn style class below.  Test it by simulating the training and test data from the `gen_LR_data` function below and calculate the average square error on the test set.  Do this for each choice of `r` in the fit function (from 1 to $p$)."
   ]
  },
  {
   "cell_type": "code",
   "execution_count": 1,
   "metadata": {},
   "outputs": [],
   "source": [
    "import numpy as np\n",
    "from scipy.linalg import svd"
   ]
  },
  {
   "cell_type": "code",
   "execution_count": 2,
   "metadata": {},
   "outputs": [],
   "source": [
    "class SingularValueRegressor:\n",
    "    \"\"\"\n",
    "    : A regression object that uses the SVD to fit and predict\n",
    "    : Init: specify rank r\n",
    "    : .fit: solve the SVD of X and precompute beta\n",
    "    : .predict: Return y hat for X_test\n",
    "    \"\"\"\n",
    "    \n",
    "    def __init__(self,r):\n",
    "        \"\"\"\n",
    "        : Store the rank\n",
    "        \"\"\"\n",
    "        self.r = r\n",
    "        \n",
    "    def fit(self,X,y):\n",
    "        \"\"\"\n",
    "        : Computes and stores the SVD (use scipy.linalg.svd)\n",
    "        : Computes beta for rank r singular value regression\n",
    "        \"\"\"\n",
    "        self.U, self.d, self.Vt = svd(X, full_matrices=False)\n",
    "        self.b = self.U.T @ y\n",
    "        self.beta = self.Vt[0:self.r,:].T @ np.diag(1/self.d[0:self.r]) @ self.b[0:self.r]\n",
    "         \n",
    "    def predict(self,X_test):\n",
    "        \"\"\"\n",
    "        : Outputs the predicted y given the predictors X_test\n",
    "        \"\"\"\n",
    "        return X_test @ self.beta \n",
    "    \n",
    "    def change_rank(self,r):\n",
    "        \"\"\"\n",
    "        : Assumes that the SVD has been computed and uses it to change the rank; after\n",
    "        : running the new regressor object should be as if we fit with the new rank r\n",
    "        \"\"\"\n",
    "        self.r = r\n",
    "        A = self.Vt[0:self.r,:].T @ np.diag(1/self.d[0:self.r])\n",
    "        self.beta = A @ self.b[0:self.r]"
   ]
  },
  {
   "cell_type": "code",
   "execution_count": 3,
   "metadata": {},
   "outputs": [],
   "source": [
    "def gen_LR_data(r = 10, p = 20, n = 100):\n",
    "    \"\"\"\n",
    "    : generate data from an approx low rank regression model\n",
    "    \"\"\"\n",
    "    alpha = np.random.chisquare(1,size = (p,r)) #X coefficients\n",
    "    Z = np.random.normal(size=(n,r)) #X covariates\n",
    "    beta = np.random.normal(size = r) #reg covs\n",
    "    mu = Z @ beta #hidden mean\n",
    "    Xmean = Z @ alpha.T #random transformation of Z\n",
    "    X = Xmean + np.random.normal(0,.5,size=(n,p)) #add noise - not exactly low rank\n",
    "    X_test = Xmean + np.random.normal(0,.5,size=(n,p))\n",
    "    y = mu + np.random.normal(0,1,size=(n))\n",
    "    y_test = mu + np.random.normal(0,1,size=(n))\n",
    "    return (X,y,X_test,y_test)"
   ]
  },
  {
   "cell_type": "code",
   "execution_count": 4,
   "metadata": {},
   "outputs": [],
   "source": [
    "X,y,X_test,y_test = gen_LR_data()"
   ]
  },
  {
   "cell_type": "code",
   "execution_count": 5,
   "metadata": {},
   "outputs": [],
   "source": [
    "p = X.shape[1]\n",
    "svr = SingularValueRegressor(p)\n",
    "svr.fit(X, y)\n",
    "\n",
    "avg_sq_error = []\n",
    "\n",
    "for r in range(p):\n",
    "    svr.change_rank(r+1)\n",
    "    pred_y = svr.predict(X_test)\n",
    "    avg_sq_error.append(np.mean((pred_y - y_test)**2))\n",
    "    "
   ]
  },
  {
   "cell_type": "code",
   "execution_count": 7,
   "metadata": {},
   "outputs": [
    {
     "data": {
      "image/png": "[encoded data removed]",
      "text/plain": [
       "<Figure size 432x288 with 1 Axes>"
      ]
     },
     "metadata": {
      "needs_background": "light"
     },
     "output_type": "display_data"
    }
   ],
   "source": [
    "import matplotlib.pyplot as plt\n",
    "plt.plot(np.array(range(p))+1, avg_sq_error)\n",
    "plt.xlabel('r')\n",
    "plt.ylabel('average square error')\n",
    "plt.show()"
   ]
  },
  {
   "cell_type": "markdown",
   "metadata": {},
   "source": [
    "__Exercise 4__ (30 pts)\n",
    "\n",
    "The dataset in the hw1 directory has a Y variable, 7 predictor variables (X1 - X7).  Using sklearn and the class that you constructed above, compare ridge regression, OLS, kNN, and SingularValueRegressor.  Compare and tune the methods using appropriate testing procedures.  Comment on the tuning of each parameter in ridge, kNN, and SingularValueRegressor in markdown.  Be sure to standardize the X variables first and decide how to deal with NAs.  "
   ]
  },
  {
   "cell_type": "code",
   "execution_count": 8,
   "metadata": {},
   "outputs": [],
   "source": [
    "import pandas as pd"
   ]
  },
  {
   "cell_type": "code",
   "execution_count": 9,
   "metadata": {},
   "outputs": [
    {
     "data": {
      "text/html": [
       "<div>\n",
       "<style scoped>\n",
       "    .dataframe tbody tr th:only-of-type {\n",
       "        vertical-align: middle;\n",
       "    }\n",
       "\n",
       "    .dataframe tbody tr th {\n",
       "        vertical-align: top;\n",
       "    }\n",
       "\n",
       "    .dataframe thead th {\n",
       "        text-align: right;\n",
       "    }\n",
       "</style>\n",
       "<table border=\"1\" class=\"dataframe\">\n",
       "  <thead>\n",
       "    <tr style=\"text-align: right;\">\n",
       "      <th></th>\n",
       "      <th>Y</th>\n",
       "      <th>X1</th>\n",
       "      <th>X2</th>\n",
       "      <th>X3</th>\n",
       "      <th>X4</th>\n",
       "      <th>X5</th>\n",
       "      <th>X6</th>\n",
       "      <th>X7</th>\n",
       "    </tr>\n",
       "  </thead>\n",
       "  <tbody>\n",
       "    <tr>\n",
       "      <th>0</th>\n",
       "      <td>18.0</td>\n",
       "      <td>8.0</td>\n",
       "      <td>307.0</td>\n",
       "      <td>130.0</td>\n",
       "      <td>3504.0</td>\n",
       "      <td>12.0</td>\n",
       "      <td>70.0</td>\n",
       "      <td>1.0</td>\n",
       "    </tr>\n",
       "    <tr>\n",
       "      <th>1</th>\n",
       "      <td>15.0</td>\n",
       "      <td>8.0</td>\n",
       "      <td>350.0</td>\n",
       "      <td>165.0</td>\n",
       "      <td>3693.0</td>\n",
       "      <td>11.5</td>\n",
       "      <td>70.0</td>\n",
       "      <td>1.0</td>\n",
       "    </tr>\n",
       "    <tr>\n",
       "      <th>2</th>\n",
       "      <td>18.0</td>\n",
       "      <td>8.0</td>\n",
       "      <td>318.0</td>\n",
       "      <td>150.0</td>\n",
       "      <td>3436.0</td>\n",
       "      <td>11.0</td>\n",
       "      <td>70.0</td>\n",
       "      <td>1.0</td>\n",
       "    </tr>\n",
       "    <tr>\n",
       "      <th>3</th>\n",
       "      <td>16.0</td>\n",
       "      <td>8.0</td>\n",
       "      <td>304.0</td>\n",
       "      <td>150.0</td>\n",
       "      <td>3433.0</td>\n",
       "      <td>12.0</td>\n",
       "      <td>70.0</td>\n",
       "      <td>1.0</td>\n",
       "    </tr>\n",
       "    <tr>\n",
       "      <th>4</th>\n",
       "      <td>17.0</td>\n",
       "      <td>8.0</td>\n",
       "      <td>302.0</td>\n",
       "      <td>140.0</td>\n",
       "      <td>3449.0</td>\n",
       "      <td>10.5</td>\n",
       "      <td>70.0</td>\n",
       "      <td>1.0</td>\n",
       "    </tr>\n",
       "  </tbody>\n",
       "</table>\n",
       "</div>"
      ],
      "text/plain": [
       "      Y   X1     X2     X3      X4    X5    X6   X7\n",
       "0  18.0  8.0  307.0  130.0  3504.0  12.0  70.0  1.0\n",
       "1  15.0  8.0  350.0  165.0  3693.0  11.5  70.0  1.0\n",
       "2  18.0  8.0  318.0  150.0  3436.0  11.0  70.0  1.0\n",
       "3  16.0  8.0  304.0  150.0  3433.0  12.0  70.0  1.0\n",
       "4  17.0  8.0  302.0  140.0  3449.0  10.5  70.0  1.0"
      ]
     },
     "execution_count": 9,
     "metadata": {},
     "output_type": "execute_result"
    }
   ],
   "source": [
    "data_mat = pd.read_csv('hw1/hw1_data.csv')\n",
    "data_mat.head()"
   ]
  },
  {
   "cell_type": "markdown",
   "metadata": {},
   "source": [
    "Some notes for the NAs, you need to replace the NAs somehow to use these methods.  The SimpleImputer will replace the NAs with the mean,median, etc.  You can fit this on the training data and use this to transform for the test set.  We can see that any imputer that is fit only on the training set also can give you that the test error is an unbiased risk estimator.  Let $\\hat I$ be the imputer transform and $\\hat f$ be any trained predictor.\n",
    "\n",
    "$$\\hat I: R^p \\to R^{p}$$\n",
    "$$\\hat f: R^{p} \\to R$$\n",
    "\n",
    "For example,\n",
    "$(\\hat I(x))_j = $ $x_j$ if non-missing and $\\hat \\mu_j$ if missing \n",
    "or you could add a missingness indicator,\n",
    "$$\\hat I_2: R^p \\to R^{2p}$$\n",
    "\n",
    "$(\\hat I_2(x))_j = $ $x_j$ if non-missing and $\\hat \\mu_j$ if missing for $j =1,\\ldots,p$\n",
    "\n",
    "$(\\hat I_2(x))_{p+j} = $ $0$ if non-missing and $1$ if missing for $j =1,\\ldots,p$\n",
    "\n",
    "The trained predictor could be linear,\n",
    "ex. $\\hat f(\\hat I(x)) = \\hat I(x)^\\top \\hat \\beta$\n",
    "\n",
    "Then we can combine these steps into one predictor,\n",
    "$\\hat g(x) = \\hat f (\\hat I (x))$.\n",
    "\n",
    "The test error is still an unbiased risk estimator,\n",
    "$$\\frac{1}{n_t} \\sum_{i=n_0+1}^{n_0+n_t} (y_i - \\hat g(x_i))^2.$$"
   ]
  },
  {
   "cell_type": "code",
   "execution_count": 10,
   "metadata": {},
   "outputs": [],
   "source": [
    "from sklearn.model_selection import train_test_split\n",
    "from sklearn.preprocessing import StandardScaler\n",
    "from sklearn.impute import SimpleImputer\n",
    "from sklearn.linear_model import LinearRegression\n",
    "from sklearn.linear_model import Ridge, RidgeCV\n",
    "from sklearn.neighbors import KNeighborsRegressor\n",
    "from sklearn.metrics import mean_squared_error"
   ]
  },
  {
   "cell_type": "markdown",
   "metadata": {},
   "source": [
    "- There are 6 missing values in the data set. \n",
    "- I first split the data set into training set and testing set, where the proportion of the testing set is 33%. \n",
    "- Then I standardize the X variables, and impute missing values with the mean along each column.\n",
    "\n",
    "Here I use mean square error as the comparing metric. According to the mean square error on the testing data set, **KNN is the best model**. The details are shown as below."
   ]
  },
  {
   "cell_type": "code",
   "execution_count": 11,
   "metadata": {},
   "outputs": [
    {
     "data": {
      "text/plain": [
       "Y     0\n",
       "X1    0\n",
       "X2    0\n",
       "X3    6\n",
       "X4    0\n",
       "X5    0\n",
       "X6    0\n",
       "X7    0\n",
       "dtype: int64"
      ]
     },
     "execution_count": 11,
     "metadata": {},
     "output_type": "execute_result"
    }
   ],
   "source": [
    "## missing values\n",
    "data_mat.isnull().sum()"
   ]
  },
  {
   "cell_type": "code",
   "execution_count": 12,
   "metadata": {},
   "outputs": [],
   "source": [
    "X_train, X_test, y_train, y_test = train_test_split(data_mat.iloc[:, 1:], \n",
    "                                                    data_mat.iloc[:, 0],\n",
    "                                                    test_size = 0.33,\n",
    "                                                    random_state = 12)"
   ]
  },
  {
   "cell_type": "code",
   "execution_count": 13,
   "metadata": {},
   "outputs": [],
   "source": [
    "# standardize\n",
    "std_scaler = StandardScaler()\n",
    "X_train = std_scaler.fit_transform(X_train)\n",
    "X_test = std_scaler.transform(X_test)\n",
    "\n",
    "# replace the NAs with the mean\n",
    "imp = SimpleImputer(strategy='mean')\n",
    "X_train = imp.fit_transform(X_train)\n",
    "X_test = imp.transform(X_test)"
   ]
  },
  {
   "cell_type": "markdown",
   "metadata": {},
   "source": [
    "1. OLS\n",
    "\n",
    "The mean square error for linear regression is shown as below."
   ]
  },
  {
   "cell_type": "code",
   "execution_count": 14,
   "metadata": {},
   "outputs": [
    {
     "name": "stdout",
     "output_type": "stream",
     "text": [
      "The mean square error is 10.672925\n"
     ]
    }
   ],
   "source": [
    "## OLS\n",
    "lr = LinearRegression()\n",
    "lr.fit(X_train, y_train)\n",
    "y_pred = lr.predict(X_test)\n",
    "print(\"The mean square error is %f\" % mean_squared_error(y_test, y_pred))"
   ]
  },
  {
   "cell_type": "code",
   "execution_count": 15,
   "metadata": {},
   "outputs": [],
   "source": [
    "def get_mse(model, X_test, y_test, pars, par_name):\n",
    "    \"\"\" Get mean square error on testing data set for a list of regression models\n",
    "    Args： \n",
    "        models: A list of models\n",
    "        X_test: Testing X\n",
    "        y_test: Test Y\n",
    "        pars: A list of values for the tuning parameter\n",
    "        par_name: Name of the tuning parameter\n",
    "        \n",
    "    Returns:\n",
    "        The model with the minimum mean square error\n",
    "    \"\"\"\n",
    "    mse = []\n",
    "    \n",
    "    for m in model:\n",
    "        y_pred = m.predict(X_test)\n",
    "        mse.append(mean_squared_error(y_test, y_pred))\n",
    "        \n",
    "    ind = plot_mse(mse, pars, par_name)\n",
    "    \n",
    "    return model[ind]"
   ]
  },
  {
   "cell_type": "code",
   "execution_count": 16,
   "metadata": {},
   "outputs": [],
   "source": [
    "def plot_mse(mse, pars, par_name):\n",
    "    \"\"\" Plot mean square error for a list of regression models\n",
    "    Args： \n",
    "        mse: A list of MSE\n",
    "        pars: A list of values for the tuning parameter\n",
    "        par_name: Name of the tuning parameter\n",
    "        \n",
    "    Returns:\n",
    "        The index for the model with the minimum mean square error\n",
    "    \"\"\"\n",
    "    plt.plot(pars, mse)\n",
    "    plt.xlim([pars.min(), pars.max()])\n",
    "    plt.ylabel(\"Mean Squared Error\")\n",
    "    plt.xlabel(par_name)\n",
    "    \n",
    "    ind = np.argmin(mse)\n",
    "    best_par = pars[ind]\n",
    "    print(\"The minimum mean square error is %f, with %s equals to %f\" % (mse[ind], par_name, best_par))\n",
    "    return ind"
   ]
  },
  {
   "cell_type": "markdown",
   "metadata": {},
   "source": [
    "2. Ridge Regression\n",
    "\n",
    "I set a list of alphas ranging from -5 to 10. It can be seen that when alpha is set to 4.309309, the mean square error is the smallest."
   ]
  },
  {
   "cell_type": "code",
   "execution_count": 17,
   "metadata": {},
   "outputs": [
    {
     "name": "stdout",
     "output_type": "stream",
     "text": [
      "The minimum mean square error is 10.599689, with alpha equals to 4.309309\n"
     ]
    },
    {
     "data": {
      "image/png": "[encoded data removed]",
      "text/plain": [
       "<Figure size 432x288 with 1 Axes>"
      ]
     },
     "metadata": {
      "needs_background": "light"
     },
     "output_type": "display_data"
    }
   ],
   "source": [
    "## ridge\n",
    "ridge = []\n",
    "alphas = np.linspace(-5, 10, 1000)\n",
    "for a in alphas:\n",
    "    rdg = Ridge(alpha=a)\n",
    "    rdg.fit(X_train, y_train)\n",
    "    ridge.append(rdg)\n",
    "\n",
    "best_ridge = get_mse(ridge, X_test, y_test, alphas, \"alpha\")"
   ]
  },
  {
   "cell_type": "markdown",
   "metadata": {},
   "source": [
    "3. KNN\n",
    "\n",
    "The tuning parameter for KNN is the number of neighbors to use, which is ranging from 1 to n here. \n",
    "\n",
    "It can be seen that when k is set to 7, the mean square error is the smallest."
   ]
  },
  {
   "cell_type": "code",
   "execution_count": 18,
   "metadata": {},
   "outputs": [
    {
     "name": "stdout",
     "output_type": "stream",
     "text": [
      "The minimum mean square error is 7.685669, with k equals to 7.000000\n"
     ]
    },
    {
     "data": {
      "image/png": "[encoded data removed]",
      "text/plain": [
       "<Figure size 432x288 with 1 Axes>"
      ]
     },
     "metadata": {
      "needs_background": "light"
     },
     "output_type": "display_data"
    }
   ],
   "source": [
    "## knn\n",
    "n = X_train.shape[0]\n",
    "knns = []\n",
    "for k in range(n):\n",
    "    knn = KNeighborsRegressor(n_neighbors=k+1)\n",
    "    knn.fit(X_train, y_train)\n",
    "    knns.append(knn)\n",
    "\n",
    "best_knn = get_mse(knns,X_test, y_test, np.array(range(n))+1, \"k\" )"
   ]
  },
  {
   "cell_type": "markdown",
   "metadata": {},
   "source": [
    "4. SingularValueRegressor\n",
    "\n",
    "The tuning parameter for singular value regressor is the number of r, which is ranging from 1 to p here. \n",
    "\n",
    "Here I add the intecept column to the design matrix. Then fit the SingularValueRegressor.\n",
    "\n",
    "It can be seen that when r is set to 8, the mean square error is the smallest."
   ]
  },
  {
   "cell_type": "code",
   "execution_count": 19,
   "metadata": {},
   "outputs": [],
   "source": [
    "def add_intercept(m):\n",
    "    row, col = m.shape\n",
    "    one = np.ones((row, 1))\n",
    "    return np.hstack((one, m))"
   ]
  },
  {
   "cell_type": "code",
   "execution_count": 20,
   "metadata": {},
   "outputs": [
    {
     "name": "stdout",
     "output_type": "stream",
     "text": [
      "The minimum mean square error is 10.672925, with r equals to 8.000000\n"
     ]
    },
    {
     "data": {
      "image/png": "[encoded data removed]",
      "text/plain": [
       "<Figure size 432x288 with 1 Axes>"
      ]
     },
     "metadata": {
      "needs_background": "light"
     },
     "output_type": "display_data"
    }
   ],
   "source": [
    "## svr\n",
    "p = X_train.shape[1]\n",
    "svr = SingularValueRegressor(p+1)\n",
    "svr.fit(add_intercept(X_train), y_train)\n",
    "\n",
    "mse_svr = []\n",
    "for r in range(p+1):\n",
    "    svr.change_rank(r+1)\n",
    "    y_pred = svr.predict(add_intercept(X_test))\n",
    "    mse_svr.append(mean_squared_error(y_test, y_pred))\n",
    "    \n",
    "_ = plot_mse(mse_svr, np.array(range(p+1))+1, \"r\")"
   ]
  },
  {
   "cell_type": "code",
   "execution_count": 21,
   "metadata": {},
   "outputs": [
    {
     "data": {
      "text/plain": [
       "[609.4242461912253,\n",
       " 16.60340238335489,\n",
       " 16.40086555585168,\n",
       " 12.722755656693497,\n",
       " 11.83529372947425,\n",
       " 11.34869445977006,\n",
       " 11.052142715733867,\n",
       " 10.672924520698816]"
      ]
     },
     "execution_count": 21,
     "metadata": {},
     "output_type": "execute_result"
    }
   ],
   "source": [
    "mse_svr"
   ]
  }
 ],
 "metadata": {
  "kernelspec": {
   "display_name": "Python 3",
   "language": "python",
   "name": "python3"
  },
  "language_info": {
   "codemirror_mode": {
    "name": "ipython",
    "version": 3
   },
   "file_extension": ".py",
   "mimetype": "text/x-python",
   "name": "python",
   "nbconvert_exporter": "python",
   "pygments_lexer": "ipython3",
   "version": "3.7.3"
  }
 },
 "nbformat": 4,
 "nbformat_minor": 2
}
