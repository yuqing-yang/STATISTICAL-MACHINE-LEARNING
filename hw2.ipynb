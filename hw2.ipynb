{
 "cells": [
  {
   "cell_type": "markdown",
   "metadata": {},
   "source": [
    "# STA 208: Homework 2 (Do not distribute)\n",
    "\n",
    "__Instructions:__ To make grading easier for the TAs please submit it on canvas in a zip file with either the scanned solutions clearly written or in the jupyter notebook below.  The zip file should include all of your code either in this notebook file, or a separate python file that is imported and ran in this notebook.  We should be able to open this notebook and run everything here by running the cells in sequence.  The written portions can be either done in markdown and TeX in new cells or written clearly by hand and scanned.\n",
    "\n",
    "- Code should be well organized and documented\n",
    "- All math should be clear and make sense sequentially\n",
    "- When in doubt explain what is going on\n",
    "- You will be graded on correctness of your math, code efficiency and succinctness, and conclusions and modelling decisions"
   ]
  },
  {
   "cell_type": "markdown",
   "metadata": {},
   "source": [
    "__Exercise 1__ (30 pts)\n",
    "\n",
    "Consider Poisson model with rate parameter $\\lambda$ which has PMF,\n",
    "$$\n",
    "p(y|\\lambda) = \\frac{\\lambda^y}{y!} e^{-\\lambda},\n",
    "$$\n",
    "where $y = 0,1,\\ldots$ is some count variable.\n",
    "In Poison regression, we model $\\lambda = e^{\\beta^\\top x}$ to obtain $p(y | x,\\beta)$.\n",
    "\n",
    "1. Let the loss function for Poisson regression be $\\ell_i(\\beta) \\propto - \\log p(y_i | x_i, \\beta)$ for a dataset consisting of predictor variables and count values $\\{x_i,y_i\\}_{i=1}^n$.  Here $\\propto$ means that we disregard any additive terms that are not dependent on $\\beta$.  Write an expression for $\\ell_i$ and derive its gradient. \n",
    "2. Show that the empirical risk $R_n(\\beta)$ is a convex function of $\\beta$.\n",
    "3. Consider the mapping $F_\\eta(\\beta) = \\beta - \\eta \\nabla R_n(\\beta)$ which is the iteration of gradient descent ($\\eta>0$ is called the learning parameter).  Show that at the minimizer of $R_n$, $\\hat \\beta$, we have that $F(\\hat \\beta) = \\hat \\beta$.\n",
    "4. I have a script to simulate from this model below.  Implement the gradient descent algorithm above and show that with enough data (n large enough) the estimated $\\hat \\beta$ approaches the true $\\beta$ (you can look at the sum of square error between these two vectors)."
   ]
  },
  {
   "cell_type": "code",
   "execution_count": 1,
   "metadata": {},
   "outputs": [],
   "source": [
    "import numpy as np"
   ]
  },
  {
   "cell_type": "code",
   "execution_count": 2,
   "metadata": {},
   "outputs": [],
   "source": [
    "## Simulate from the Poisson regression model (use y,X)\n",
    "n, p = 1000,20\n",
    "X = np.random.normal(0,1,size = (n,p))\n",
    "beta = np.random.normal(0,.2,size = (p))\n",
    "lamb = np.exp(X @ beta)\n",
    "y = np.random.poisson(lamb)"
   ]
  },
  {
   "cell_type": "markdown",
   "metadata": {},
   "source": [
    "1.1\n",
    "\n",
    "\\begin{align}\n",
    "\\ell_i(\\beta) &\\propto - \\log p(y_i | x_i, \\beta) \\\\\n",
    "         &\\propto -\\log \\frac{\\lambda^y_i}{y_i !} e^{-\\lambda}\\\\\n",
    "         &\\propto - y_i\\log \\lambda + \\lambda + \\log(y_i !)\\\\\n",
    "         &\\propto - y_i\\log e^{\\beta^\\top x_i} + e^{\\beta^\\top x_i} + \\log(y_i!)\\\\\n",
    "         &\\propto -y_i {\\beta^\\top x_i}+ e^{\\beta^\\top x_i} + \\log(y_i!)\n",
    "\\end{align}\n",
    "\n",
    "So,\n",
    "\n",
    "\\begin{align}\n",
    "\\frac{\\partial \\ell_i}{\\partial \\beta} &= -y_i x_i + e^{\\beta^\\top x_i} x_i \\\\\n",
    "                          &= ( e^{\\beta^\\top x_i} - y_i )x_i\n",
    "\\end{align}"
   ]
  },
  {
   "cell_type": "markdown",
   "metadata": {},
   "source": [
    "1.2\n",
    "\n",
    "\\begin{align}\n",
    "R_n(\\beta) &= \\frac{1}{n}\\sum_{i=1}^n \\ell_i(\\beta) \\\\\n",
    "       &\\propto \\frac{1}{n}\\sum_{i=1}^n -y_i {\\beta^\\top x_i}+ e^{\\beta^\\top x_i} + \\log(y_i!) \\\\ \n",
    "        &\\propto \\frac{1}{n}\\sum_{i=1}^n -y_i {\\beta^\\top x_i}+ e^{\\beta^\\top x_i}\n",
    "\\end{align}\n",
    "\n",
    "for any $0 \\le \\alpha \\le 1$,\n",
    "\n",
    "\\begin{align}\n",
    "R_n(\\alpha \\beta_1 + (1-\\alpha) \\beta_2) &\\propto \\frac{1}{n}\\sum_{i=1}^n -y_i {(\\alpha \\beta_1 + (1-\\alpha) \\beta_2)^\\top x_i}+ e^{(\\alpha \\beta_1 + (1-\\alpha) \\beta_2)^\\top  x_i} \\\\\n",
    "                           &\\propto \\frac{1}{n}\\sum_{i=1}^n -y_i {\\alpha \\beta_1}^\\top x_i - y_i {(1-\\alpha) \\beta_2}^\\top x_i + e^{\\alpha \\beta_1^\\top x_i} e^{(1-\\alpha) \\beta_2^\\top  x_i} \\\\\n",
    "                           &\\leq \\frac{1}{n}\\sum_{i=1}^n -y_i {\\alpha \\beta_1}^\\top x_i + \\alpha e^{\\beta_1^\\top x_i} - y_i {(1-\\alpha) \\beta_2}^\\top x_i + (1-\\alpha) e^{\\beta_2^\\top  x_i}\\ \\ (since\\ e^x\\ is\\ convex)\\\\\n",
    "                           &= \\alpha R_n(\\beta_1) + (1-\\alpha) R_n(\\beta_2)\n",
    "\\end{align}\n",
    "\n",
    "So $R_n(\\beta)$ is  a convex function of $\\beta$ ."
   ]
  },
  {
   "cell_type": "markdown",
   "metadata": {},
   "source": [
    "( or $\\frac{\\partial^2 \\ell_i}{\\partial \\beta^2} = e^{\\beta^\\top x_i} x_i^\\top x_i \\geq 0$ )        "
   ]
  },
  {
   "cell_type": "markdown",
   "metadata": {},
   "source": [
    "1.3\n",
    "\n",
    "Since $\\hat \\beta$ is the minimizer of $R_n$, we have $\\nabla R_n(\\hat \\beta) = 0$. \n",
    "\n",
    "Then $F(\\hat \\beta) = \\hat \\beta - \\eta \\nabla R_n(\\hat \\beta) = \\hat \\beta - 0 = \\hat\\beta$"
   ]
  },
  {
   "cell_type": "markdown",
   "metadata": {},
   "source": [
    "1.4"
   ]
  },
  {
   "cell_type": "code",
   "execution_count": 3,
   "metadata": {},
   "outputs": [],
   "source": [
    "import matplotlib.pyplot as plt"
   ]
  },
  {
   "cell_type": "code",
   "execution_count": 4,
   "metadata": {},
   "outputs": [],
   "source": [
    "def gradient_descent(X, y, eta, max_iter, n, p):\n",
    "    \n",
    "    #est_beta = np.random.normal(0, .2, size = (p))\n",
    "    est_beta = np.zeros(p)\n",
    "    error = []\n",
    "    for i in range(max_iter):\n",
    "        temp = est_beta - eta * (np.exp(X @ (est_beta.T) - y)).T @ X / n\n",
    "        error.append(sum((temp - est_beta)**2))\n",
    "        if sum((temp - est_beta)**2) < 1e-16:\n",
    "            break\n",
    "        est_beta = temp\n",
    "        \n",
    "    plt.plot(np.arange(len(error)), error)\n",
    "    plt.ylabel(r'$||\\beta_{new} - \\beta_{pre}||_2^2$')\n",
    "    return est_beta        "
   ]
  },
  {
   "cell_type": "code",
   "execution_count": 5,
   "metadata": {},
   "outputs": [
    {
     "name": "stdout",
     "output_type": "stream",
     "text": [
      "Sum of square error between two vectors: 0.086863\n"
     ]
    },
    {
     "data": {
      "image/png": "[encoded data removed]",
      "text/plain": [
       "<Figure size 432x288 with 1 Axes>"
      ]
     },
     "metadata": {
      "needs_background": "light"
     },
     "output_type": "display_data"
    }
   ],
   "source": [
    "est_beta = gradient_descent(X, y, 2e-3, 10000, n, p)\n",
    "\n",
    "print(\"Sum of square error between two vectors: %f\" % sum((est_beta - beta)**2))"
   ]
  },
  {
   "cell_type": "markdown",
   "metadata": {},
   "source": [
    "__Exercise 2__ (30 pts)\n",
    "\n",
    "Recall the subset selection problem with tuning parameter $k$,\n",
    "$$\n",
    "\\min_{\\beta : |{\\rm supp}(\\beta)| \\le k}\\| y - X \\beta \\|_2^2,\n",
    "$$\n",
    "where \n",
    "${\\rm supp}(\\beta) = \\{j = 1\\,\\ldots,p : \\beta_j \\ne 0 \\}$. Notice that we can write this as \n",
    "$$\n",
    "\\min_{\\beta : \\| \\beta \\|_0 \\le k}\\| y - X \\beta \\|_2^2,\n",
    "$$\n",
    "where \n",
    "1. Write the subset selection problem in the following form\n",
    "$$\n",
    "\\min_{S \\subseteq \\{1,\\ldots,p\\}, |S|\\le k} y^\\top P_S y,\n",
    "$$\n",
    "where $P_S$ is a projection.  Describe the subspace that is the range of this projection.\n",
    "2. Suppose that we have a nested sequence of models $S_1\\subset S_2 \\subset \\ldots \\subset S_p$ such that $|S_k| = k$ (it contains $k$ variables).  Prove that $$y^\\top P_{S_k} y \\ge y^\\top P_{S_{k+1}} y$$ for $k=1,\\ldots,p-1$.  What does this tell us about the solution to the subset selection problem and the constraint $|S| \\le k$?\n",
    "3. Suppose that $X$ is orthogonal, then write a computationally efficient pseudocode to solve the subset selection problem.  Prove that it is correct (your algorithm actually solves subset selection under othogonal design).\n",
    "4. (Challenge) Suppose that we have that $n = p$ and $y_i = \\beta_i + \\epsilon_i$ (identity design matrix) where $\\epsilon_i$ satisfies \n",
    "$$\n",
    "\\mathbb P \\left\\{ |\\epsilon_i| \\ge t \\right\\} \\le 2 e^{-t^2 / 2\\sigma^2}\n",
    "$$\n",
    "for any $t > 0$ (this is true for central Normal RVs) for some $\\sigma > 0$.\n",
    "Suppose that there is some true $S_0 \\subset\\{1,\\ldots,p\\}$ such that $|S_0| = k < p$ and ${\\rm supp}(\\beta) = S_0$.\n",
    "Prove the following.\n",
    "\n",
    "__Proposition__\n",
    "Define $\\mu = \\min_{j \\in S_0} |\\beta_j|$ and call $\\mu / \\sigma$ the signal-to-noise ratio.  Then if \n",
    "$$\n",
    "\\frac{\\mu}{\\sigma} > 2 \\sqrt{2 \\log \\left( \\frac{2n}{\\delta}\\right)},\n",
    "$$\n",
    "then the true $S$ is selected by subset selection with probability at least $1 - \\delta$.\n",
    "\n",
    "Hint: rewrite the subset selection problem with $X = I$ and compare the objective at $S_0$ to any other $S$."
   ]
  },
  {
   "cell_type": "markdown",
   "metadata": {},
   "source": [
    "2.1\n",
    "\n",
    "Denote $X_S$ as the submatrix of $X$ that only contains the $s_1$, ..., $s_{|S|}$ th column, where $s_i \\in S$, $\\beta_S$ as the vector that only contains the $s_1$, ..., $s_{|S|}$ th element of $\\beta$.\n",
    "\n",
    "Then $\\|y-X\\beta\\|_2^2$ where $\\|\\beta\\|_0 \\leq 0$ equals to $\\|y-X_S\\beta_S\\|_2^2$\n",
    "\n",
    "Since $\\hat \\beta_S = argmin \\|y-X_S\\beta_S\\|_2^2 = H_S y$ , where $H_S = X_S(X_S^\\top X_S)^{-1} X_S^\\top$\n",
    "\n",
    "The subset selection problem could be written as \n",
    "$$\\min_{S \\subseteq \\{1,\\ldots,p\\}, |S|\\le k} y^\\top P_S y,$$\n",
    "\n",
    "where $P_S = I - X_S(X_S^\\top X_S)^{-1} X_S^\\top$, which is the projection matrix that projects a vector onto the linear subspace of $R^n$ that is orthogonal to the column space of $X_S$. "
   ]
  },
  {
   "cell_type": "markdown",
   "metadata": {},
   "source": [
    "2.2\n",
    "\n",
    "\\begin{align}\n",
    "y^\\top P_{S_k} y - y^\\top P_{S_{k+1}} y &= y^\\top (I - H_{S_k}) y - y^\\top (I - H_{S_{k+1}}) y \\\\\n",
    "&=  y^\\top (H_{S_{k+1}} - H_{S_k})y \\\\\n",
    "\\end{align}\n",
    "\n",
    "Since $S_1\\subset S_2 \\subset \\ldots \\subset S_p$, and $H_S$ is positive semidefinite \n",
    "\n",
    "$rank(H_{S_{k+1}} - H_{S_k}) = 1$, $(H_{S_{k+1}} - H_{S_k})$ project a vetor in $R^n$ to a subspace generated by column $S_{k+1}\\backslash S_k$ of $X$\n",
    "\n",
    "$(H_{S_{k+1}} - H_{S_k})$ is positive semidefinite \n",
    "\n",
    "$y^\\top P_{S_k} y - y^\\top P_{S_{k+1}} y \\ge 0$\n",
    "\n",
    "So the subset selection problem will always choose k variables. The constraint here will be equal to $|S| = k$."
   ]
  },
  {
   "cell_type": "markdown",
   "metadata": {},
   "source": [
    "2.3\n",
    "\n",
    "Since $X$ is orthogonal, $X_S = (x_{S_1}, x_{S_2},...,x_{S_{|S|}})$ is also orthognal\n",
    "\n",
    "then $H_S = X_S X_S^\\top$\n",
    "\n",
    "\\begin{align}\n",
    "\\min_S y^\\top P_S y &= \\max_S y^\\top H_S y \\\\\n",
    "               &= \\max_S \\|X_S^\\top y\\|_2^2 \\\\\n",
    "               &= \\max_{S, |S|\\leq k}\\sum_{i=1}^{|S|} (x_i^\\top y)^2\n",
    "\\end{align}\n",
    "\n",
    "where $x_i$ is the ith column of X\n",
    "\n",
    "It can be seen that to get the maximum value, we need to choose the top k largest absolute values of $X^\\top y$\n",
    "\n",
    "```\n",
    "beta_full = X.T @ y\n",
    "find out the top k largest elements of abs(beta_full), save the indices in `ind`\n",
    "beta_s = np.zeros[p]\n",
    "beta_s[ind] = beta_full[ind] \n",
    "```"
   ]
  },
  {
   "cell_type": "markdown",
   "metadata": {},
   "source": [
    "2.4"
   ]
  },
  {
   "cell_type": "markdown",
   "metadata": {},
   "source": [
    "$X = I = (e_1, e_2, ..., e_p)$, where $e_i = (0,...,1,...0)^\\top$ (vector that every element is 0 except the ith inde)\n",
    "\n",
    "then $X_S = (e_{S_1}, e_{S_2},..., e_{S_|S|})$, $e_i\\top y = y_i$\n",
    "\n",
    "From 2.3, $S$ chose by subset selection will be the index of the top k largest values of $|y_i|$ , i.e. $|\\beta_i + \\epsilon_i|$\n",
    "\n",
    "Since $|\\beta_i| \\ge \\mu$ when $i \\in S_0$\n",
    "\n",
    "To split $S_0$ from $S\\backslash S_0$, i.e. split $|\\beta_i + \\epsilon_i|$ from $|\\epsilon_j|$, \n",
    "\n",
    "we need $\\max_{i=1}^n |\\epsilon_i| < \\frac{\\mu}{2}$\n",
    "\n",
    "($\\frac{\\mu}{\\sigma} > 2 \\sqrt{2 \\log \\left( \\frac{2n}{\\delta}\\right)}$, $\\mathbb P \\left\\{ |\\epsilon_i| \\ge t \\right\\} \\le 2 e^{-t^2 / 2\\sigma^2}$)\n",
    "\n",
    "\n",
    "\\begin{align}\n",
    "\\mathbb P(\\max_{i=1}^n |\\epsilon_i| < \\frac{\\mu}{2}) &= \\mathbb P(|\\epsilon_{(1)}| < \\frac{\\mu}{2}, ..., |\\epsilon_{(n)}| < \\frac{\\mu}{2}) \\\\\n",
    "&\\ge 1-\\sum_{i=1}^nP(|\\epsilon_i| \\ge \\frac{\\mu}{2}) \\\\\n",
    "                             &= 1-nP(|\\epsilon_i| \\ge \\frac{\\mu}{2})\\\\\n",
    "                             &\\ge 1-2ne^{-\\frac{\\mu^2}{8\\sigma^2}}\\\\\n",
    "                             &\\ge 1-2ne^{-\\log(\\frac{2n}{\\delta})}\\\\\n",
    "                             &= 1-\\delta\n",
    "\\end{align}\n"
   ]
  },
  {
   "cell_type": "markdown",
   "metadata": {},
   "source": [
    "__Exercise 3__ (40 pts)\n",
    "For this exercise, it may be helpful to use the `sklearn.linear_model` module.  I have also included a plotting tool for making the lasso path in ESL.\n",
    "\n",
    "1. Load the training and test data using the script below.  Fit OLS on the training dataset and compute the test error.  Throughout you do not need to compute an intercept but you should normalize the X (divide by the column norms).\n",
    "2. Train and tune ridge regression using a validation set and compute the test error (square error loss).\n",
    "3. Fit the lasso path with lars to the data and compute the test error for each returned lasso coefficient.\n",
    "4. Perform 3 without the lasso modification generating the lars path.  Compare and contrast the lars path to the lasso path, what is the key difference.  Tell me when the active sets differ and how, if they do at all.\n",
    "4. Extract each active set from the lasso path and recompute the restricted OLS for each.  Compute and compare the test error for each model.\n",
    "5. If your boss said that they wanted a more parsimonious model (a smaller model) then which model would you choose, justify your answer.  Under which circumstance would you choose the model with the smallest test error."
   ]
  },
  {
   "cell_type": "code",
   "execution_count": 6,
   "metadata": {},
   "outputs": [],
   "source": [
    "def plot_lars(coefs, lines=False, title=\"Lars Path\"):\n",
    "    \"\"\"\n",
    "    Plot the lasso path where coefs is a matrix - the columns are beta vectors\n",
    "    \"\"\"\n",
    "    xx = np.sum(np.abs(coefs.T), axis=1)\n",
    "    xx /= xx[-1]\n",
    "    plt.plot(xx, coefs.T)\n",
    "    ymin, ymax = plt.ylim()\n",
    "    if lines:\n",
    "        plt.vlines(xx, ymin, ymax, linestyle='dashed')\n",
    "    plt.xlabel('|coef| / max|coef|')\n",
    "    plt.ylabel('Coefficients')\n",
    "    plt.title(title)\n",
    "    plt.axis('tight')"
   ]
  },
  {
   "cell_type": "code",
   "execution_count": 7,
   "metadata": {},
   "outputs": [],
   "source": [
    "import pickle\n",
    "with open('hw2.data','rb') as f:\n",
    "    y_tr,X_tr,y_te,X_te = pickle.load(f)"
   ]
  },
  {
   "cell_type": "code",
   "execution_count": 8,
   "metadata": {},
   "outputs": [],
   "source": [
    "from sklearn.linear_model import LinearRegression, Ridge,lars_path\n",
    "from sklearn.preprocessing import normalize, StandardScaler\n",
    "from sklearn.metrics import mean_squared_error\n",
    "from sklearn.model_selection import train_test_split"
   ]
  },
  {
   "cell_type": "markdown",
   "metadata": {},
   "source": [
    "3.1 OLS"
   ]
  },
  {
   "cell_type": "code",
   "execution_count": 9,
   "metadata": {},
   "outputs": [],
   "source": [
    "# Normalize \n",
    "X_tr, norms = normalize(X_tr, axis=0, return_norm=True)\n",
    "X_te /= norms "
   ]
  },
  {
   "cell_type": "code",
   "execution_count": 10,
   "metadata": {},
   "outputs": [
    {
     "data": {
      "text/plain": [
       "LinearRegression(copy_X=True, fit_intercept=False, n_jobs=None, normalize=False)"
      ]
     },
     "execution_count": 10,
     "metadata": {},
     "output_type": "execute_result"
    }
   ],
   "source": [
    "ols = LinearRegression(fit_intercept=False)\n",
    "ols.fit(X_tr, y_tr)"
   ]
  },
  {
   "cell_type": "code",
   "execution_count": 11,
   "metadata": {},
   "outputs": [
    {
     "name": "stdout",
     "output_type": "stream",
     "text": [
      "MSE of OLS is 1.039644\n"
     ]
    }
   ],
   "source": [
    "print(\"MSE of OLS is %f\" % np.mean((y_te - ols.predict(X_te))**2))"
   ]
  },
  {
   "cell_type": "markdown",
   "metadata": {},
   "source": [
    "3.2 Ridge Regression"
   ]
  },
  {
   "cell_type": "code",
   "execution_count": 12,
   "metadata": {},
   "outputs": [],
   "source": [
    "# split into training dataset and validation dataset\n",
    "X_train, X_val,y_train, y_val = train_test_split(X_tr, y_tr, test_size = 0.33, random_state = 123) "
   ]
  },
  {
   "cell_type": "code",
   "execution_count": 13,
   "metadata": {},
   "outputs": [],
   "source": [
    "std = StandardScaler()\n",
    "X_train = std.fit_transform(X_train)\n",
    "X_val = std.transform(X_val)\n",
    "X_train_2 = std.transform(X_tr)\n",
    "X_test = std.transform(X_te)"
   ]
  },
  {
   "cell_type": "code",
   "execution_count": 14,
   "metadata": {},
   "outputs": [
    {
     "data": {
      "text/plain": [
       "Text(0.5, 1.0, 'MSE for the Validation Dataset')"
      ]
     },
     "execution_count": 14,
     "metadata": {},
     "output_type": "execute_result"
    },
    {
     "data": {
      "image/png": "[encoded data removed]",
      "text/plain": [
       "<Figure size 432x288 with 1 Axes>"
      ]
     },
     "metadata": {
      "needs_background": "light"
     },
     "output_type": "display_data"
    }
   ],
   "source": [
    "# tuning parameter\n",
    "mse = []\n",
    "alphas = np.linspace(0,10,1000)\n",
    "for a in alphas:\n",
    "    rdg = Ridge(alpha=a, fit_intercept=False)\n",
    "    rdg.fit(X_train, y_train)\n",
    "    mse.append(mean_squared_error(y_val, rdg.predict(X_val)))\n",
    "\n",
    "plt.plot(alphas, mse)\n",
    "plt.xlabel(\"alpha\")\n",
    "plt.ylabel(\"MSE\")\n",
    "plt.title(\"MSE for the Validation Dataset\")"
   ]
  },
  {
   "cell_type": "code",
   "execution_count": 15,
   "metadata": {},
   "outputs": [
    {
     "data": {
      "text/plain": [
       "Ridge(alpha=4.524524524524525, copy_X=True, fit_intercept=False, max_iter=None,\n",
       "      normalize=False, random_state=None, solver='auto', tol=0.001)"
      ]
     },
     "execution_count": 15,
     "metadata": {},
     "output_type": "execute_result"
    }
   ],
   "source": [
    "# chose the parameter that having the smallest MSE\n",
    "alpha_best = alphas[np.argmin(mse)]\n",
    "ridge_best = Ridge(alpha=alpha_best, fit_intercept=False)\n",
    "ridge_best.fit(X_train_2, y_tr)"
   ]
  },
  {
   "cell_type": "code",
   "execution_count": 16,
   "metadata": {},
   "outputs": [
    {
     "name": "stdout",
     "output_type": "stream",
     "text": [
      "MSE of Ridge Regression is 1.075950\n"
     ]
    }
   ],
   "source": [
    "print(\"MSE of Ridge Regression is %f\" % mean_squared_error(y_te, ridge_best.predict(X_test)))"
   ]
  },
  {
   "cell_type": "markdown",
   "metadata": {},
   "source": [
    "3.3 Lasso Path"
   ]
  },
  {
   "cell_type": "code",
   "execution_count": 17,
   "metadata": {},
   "outputs": [],
   "source": [
    "_, _, coefs_modf = lars_path(X_tr, y_tr, method = 'lasso')"
   ]
  },
  {
   "cell_type": "code",
   "execution_count": 18,
   "metadata": {},
   "outputs": [],
   "source": [
    "mse_lasso = []\n",
    "for i in range(coefs_modf.shape[1]):\n",
    "    y_pred = X_te @ coefs_modf[:,i]\n",
    "    mse_lasso.append(mean_squared_error(y_te, y_pred))"
   ]
  },
  {
   "cell_type": "code",
   "execution_count": 19,
   "metadata": {},
   "outputs": [
    {
     "data": {
      "text/plain": [
       "Text(0.5, 1.0, 'Test Error of Lasso Path')"
      ]
     },
     "execution_count": 19,
     "metadata": {},
     "output_type": "execute_result"
    },
    {
     "data": {
      "image/png": "[encoded data removed]",
      "text/plain": [
       "<Figure size 432x288 with 1 Axes>"
      ]
     },
     "metadata": {
      "needs_background": "light"
     },
     "output_type": "display_data"
    }
   ],
   "source": [
    "plt.plot(np.array(range(coefs_modf.shape[1])), mse_lasso)\n",
    "plt.ylabel(\"MSE\")\n",
    "plt.title(\"Test Error of Lasso Path\")"
   ]
  },
  {
   "cell_type": "markdown",
   "metadata": {},
   "source": [
    "3.4 LAR with/without Lasso modifiction"
   ]
  },
  {
   "cell_type": "code",
   "execution_count": 20,
   "metadata": {},
   "outputs": [],
   "source": [
    "_, _, coefs_lar = lars_path(X_tr, y_tr, method = 'lar')"
   ]
  },
  {
   "cell_type": "code",
   "execution_count": 21,
   "metadata": {},
   "outputs": [
    {
     "data": {
      "image/png": "[encoded data removed]",
      "text/plain": [
       "<Figure size 432x288 with 1 Axes>"
      ]
     },
     "metadata": {
      "needs_background": "light"
     },
     "output_type": "display_data"
    },
    {
     "data": {
      "text/plain": [
       "<function matplotlib.pyplot.show(*args, **kw)>"
      ]
     },
     "execution_count": 21,
     "metadata": {},
     "output_type": "execute_result"
    },
    {
     "data": {
      "image/png": "[encoded data removed]",
      "text/plain": [
       "<Figure size 432x288 with 1 Axes>"
      ]
     },
     "metadata": {
      "needs_background": "light"
     },
     "output_type": "display_data"
    }
   ],
   "source": [
    "plot_lars(coefs_modf, title= \"Lasso Path\")\n",
    "plt.show()\n",
    "plot_lars(coefs_lar, title = \"LAR Path\")\n",
    "plt.show"
   ]
  },
  {
   "cell_type": "markdown",
   "metadata": {},
   "source": [
    "Noticed that when the red line hit 0, in the Lasso path the coefficient remains as 0  for some time, and coefficients were recomputed; while in the LAR Path, there is no change in the slope of lines. \n",
    "\n",
    "This means the coefficient in Lasso Path left the active set for a while. However, in the LAR Path, it is not allowed to leave the active set."
   ]
  },
  {
   "cell_type": "markdown",
   "metadata": {},
   "source": [
    "3.5 Restricted OLS"
   ]
  },
  {
   "cell_type": "code",
   "execution_count": 22,
   "metadata": {},
   "outputs": [],
   "source": [
    "mse_restrict = []\n",
    "num = []\n",
    "ols_restrict = LinearRegression(fit_intercept=False)\n",
    "for i in range(coefs_modf.shape[1]):\n",
    "    temp = coefs_modf[:,i]!=0\n",
    "    if(sum(temp)==0):\n",
    "        continue\n",
    "    num.append(sum(temp))    \n",
    "    ols_restrict.fit(X_tr[:,temp], y_tr)\n",
    "    mse_temp = mean_squared_error(y_te, ols_restrict.predict(X_te[:,temp]))\n",
    "    mse_restrict.append(mse_temp)"
   ]
  },
  {
   "cell_type": "code",
   "execution_count": 23,
   "metadata": {},
   "outputs": [
    {
     "data": {
      "text/plain": [
       "Text(0, 0.5, 'MSE')"
      ]
     },
     "execution_count": 23,
     "metadata": {},
     "output_type": "execute_result"
    },
    {
     "data": {
      "image/png": "[encoded data removed]",
      "text/plain": [
       "<Figure size 432x288 with 1 Axes>"
      ]
     },
     "metadata": {
      "needs_background": "light"
     },
     "output_type": "display_data"
    }
   ],
   "source": [
    "plt.plot(np.array(range(len(mse_restrict))), mse_restrict)\n",
    "plt.ylabel(\"MSE\")"
   ]
  },
  {
   "cell_type": "markdown",
   "metadata": {},
   "source": [
    "3.6"
   ]
  },
  {
   "cell_type": "markdown",
   "metadata": {},
   "source": [
    "Since a more parsimonious model is wanted, considering the Lasso models or the restricted OLS models."
   ]
  },
  {
   "cell_type": "markdown",
   "metadata": {},
   "source": [
    "From the plot below, the number of non-zero variables increase from 1 to 100."
   ]
  },
  {
   "cell_type": "code",
   "execution_count": 24,
   "metadata": {},
   "outputs": [
    {
     "data": {
      "text/plain": [
       "Text(0.5, 1.0, 'Number of non-zero variables')"
      ]
     },
     "execution_count": 24,
     "metadata": {},
     "output_type": "execute_result"
    },
    {
     "data": {
      "image/png": "[encoded data removed]",
      "text/plain": [
       "<Figure size 432x288 with 1 Axes>"
      ]
     },
     "metadata": {
      "needs_background": "light"
     },
     "output_type": "display_data"
    }
   ],
   "source": [
    "plt.plot(np.array(range(len(num))), num)\n",
    "plt.title(\"Number of non-zero variables\")"
   ]
  },
  {
   "cell_type": "code",
   "execution_count": 25,
   "metadata": {},
   "outputs": [
    {
     "data": {
      "text/plain": [
       "Text(0, 0.5, 'MSE of Testing dataset')"
      ]
     },
     "execution_count": 25,
     "metadata": {},
     "output_type": "execute_result"
    },
    {
     "data": {
      "image/png": "[encoded data removed]",
      "text/plain": [
       "<Figure size 432x288 with 1 Axes>"
      ]
     },
     "metadata": {
      "needs_background": "light"
     },
     "output_type": "display_data"
    }
   ],
   "source": [
    "plt.plot(np.array(range(len(mse_restrict))), mse_restrict, \n",
    "         label = \"Restricted OLS\")\n",
    "plt.plot(np.array(range(coefs_modf.shape[1])), mse_lasso,\n",
    "         label = \"Lasso Path\")\n",
    "plt.legend()\n",
    "plt.ylabel(\"MSE of Testing dataset\")"
   ]
  },
  {
   "cell_type": "code",
   "execution_count": 26,
   "metadata": {},
   "outputs": [
    {
     "data": {
      "text/plain": [
       "(0.9938410330702541, 69)"
      ]
     },
     "execution_count": 26,
     "metadata": {},
     "output_type": "execute_result"
    }
   ],
   "source": [
    "## test error of lasso path\n",
    "np.min(mse_lasso), num[np.argmin(mse_lasso)]"
   ]
  },
  {
   "cell_type": "code",
   "execution_count": 27,
   "metadata": {},
   "outputs": [
    {
     "data": {
      "text/plain": [
       "(0.9840561908608665, 21)"
      ]
     },
     "execution_count": 27,
     "metadata": {},
     "output_type": "execute_result"
    }
   ],
   "source": [
    "## test error of ristricted OLS\n",
    "np.min(mse_restrict), num[np.argmin(mse_restrict)]"
   ]
  },
  {
   "cell_type": "markdown",
   "metadata": {},
   "source": [
    "From the test error plot above, the restriced OLS model which choose 21 variables should be used. \n",
    "\n",
    "Because this model includes a small numbers of variables, and has the smallest test error. "
   ]
  }
 ],
 "metadata": {
  "kernelspec": {
   "display_name": "Python 3",
   "language": "python",
   "name": "python3"
  },
  "language_info": {
   "codemirror_mode": {
    "name": "ipython",
    "version": 3
   },
   "file_extension": ".py",
   "mimetype": "text/x-python",
   "name": "python",
   "nbconvert_exporter": "python",
   "pygments_lexer": "ipython3",
   "version": "3.7.3"
  }
 },
 "nbformat": 4,
 "nbformat_minor": 2
}
